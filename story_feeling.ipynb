{
 "cells": [
  {
   "cell_type": "markdown",
   "metadata": {},
   "source": [
    "word2vecで小説の浮き沈みを可視化する"
   ]
  },
  {
   "cell_type": "code",
   "execution_count": 64,
   "metadata": {},
   "outputs": [],
   "source": [
    "from gensim.models.word2vec import Word2Vec as wv\n",
    "import gensim\n",
    "#import numpy as np\n",
    "from sklearn.preprocessing import StandardScaler,RobustScaler"
   ]
  },
  {
   "cell_type": "code",
   "execution_count": 65,
   "metadata": {},
   "outputs": [],
   "source": [
    "import MeCab\n",
    "import matplotlib.pyplot as plt\n",
    "%matplotlib inline"
   ]
  },
  {
   "cell_type": "markdown",
   "metadata": {},
   "source": [
    "word2vecモデルは以下のリンクから使わせていただきました。\n",
    "<br>\n",
    "https://aial.shiroyagi.co.jp/2017/02/japanese-word2vec-model-builder/\n",
    "<br>\n",
    "マッチ売りの少女は以下のリンクから使わせていただきました。\n",
    "<br>\n",
    "http://www.hyuki.com/trans/match.html\n",
    "<br>\n",
    "ありがとうございました。"
   ]
  },
  {
   "cell_type": "code",
   "execution_count": 3,
   "metadata": {},
   "outputs": [],
   "source": [
    "model = wv.load('./latest-ja-word2vec-gensim-model/word2vec.gensim.model')"
   ]
  },
  {
   "cell_type": "code",
   "execution_count": 4,
   "metadata": {},
   "outputs": [
    {
     "name": "stdout",
     "output_type": "stream",
     "text": [
      "50\n"
     ]
    },
    {
     "data": {
      "text/plain": [
       "array([ 0.24595872, -0.20374617,  0.04643076, -0.08370793, -0.00159653,\n",
       "       -0.1498964 , -0.24985418, -0.27679303,  0.04230654, -0.2103632 ,\n",
       "        0.19847761, -0.0183036 ,  0.1813651 ,  0.05241806, -0.13604565,\n",
       "        0.08782653, -0.01765659, -0.15811883, -0.23197378, -0.01800125,\n",
       "        0.22656697,  0.03348085, -0.05751087, -0.03324316,  0.01043968,\n",
       "        0.10927296,  0.07482351,  0.0193875 , -0.02678603,  0.03127711,\n",
       "       -0.01660327,  0.00539502, -0.13747899, -0.04497603, -0.03226609,\n",
       "        0.1099863 , -0.1909478 ,  0.3321621 ,  0.07847033,  0.08839402,\n",
       "        0.0976343 ,  0.15204719,  0.02627419,  0.06231925,  0.2672885 ,\n",
       "        0.1843764 ,  0.06427712,  0.28204063,  0.02015338, -0.04207079],\n",
       "      dtype=float32)"
      ]
     },
     "execution_count": 4,
     "metadata": {},
     "output_type": "execute_result"
    }
   ],
   "source": [
    "print(len(model.wv[\"ポジティブ\"]))\n",
    "model.wv['ポジティブ']"
   ]
  },
  {
   "cell_type": "code",
   "execution_count": 5,
   "metadata": {},
   "outputs": [
    {
     "name": "stdout",
     "output_type": "stream",
     "text": [
      "[('ネガティブ', 0.9203236103057861), ('エネルギッシュ', 0.9111076593399048), ('非常識', 0.8973115682601929), ('エキセントリック', 0.8965754508972168), ('ストイック', 0.8952075839042664), ('ポジティヴ', 0.8943831920623779), ('シニカル', 0.8901078701019287), ('エモーショナル', 0.8885367512702942), ('アグレッシヴ', 0.886935293674469), ('支離滅裂', 0.8853303790092468), ('サディスティック', 0.8837233781814575), ('細やか', 0.8775896430015564), ('キャッチー', 0.8767151832580566), ('ドラマチック', 0.8752378821372986), ('破天荒', 0.8741315603256226), ('辛らつ', 0.8736477494239807), ('辛辣', 0.8733779788017273), ('下品', 0.873147189617157), ('コケティッシュ', 0.8729584217071533), ('爽やか', 0.8715670704841614), ('低俗', 0.8711273074150085), ('ドラマティック', 0.8703761696815491), ('ロマンチック', 0.8697142004966736), ('温か', 0.8693822026252747), ('スリリング', 0.8690565228462219), ('無茶苦茶', 0.868104100227356), ('骨太', 0.8679274916648865), ('デリケート', 0.866979718208313), ('パワフル', 0.8662260174751282), ('大袈裟', 0.8660604357719421)]\n"
     ]
    }
   ],
   "source": [
    "simile_word = model.wv.most_similar(positive=[\"ポジティブ\"], topn=30)\n",
    "print(simile_word)"
   ]
  },
  {
   "cell_type": "code",
   "execution_count": 6,
   "metadata": {},
   "outputs": [
    {
     "name": "stdout",
     "output_type": "stream",
     "text": [
      "0.4715963\n"
     ]
    }
   ],
   "source": [
    "similarity = model.wv.similarity(w1=\"悲しみ\", w2=\"素晴らしい\")\n",
    "print(similarity)"
   ]
  },
  {
   "cell_type": "code",
   "execution_count": 7,
   "metadata": {},
   "outputs": [
    {
     "name": "stdout",
     "output_type": "stream",
     "text": [
      "0.60737073\n"
     ]
    }
   ],
   "source": [
    "similarity2 = model.wv.similarity(w1=\"喜び\", w2=\"素晴らしい\")\n",
    "print(similarity2)"
   ]
  },
  {
   "cell_type": "code",
   "execution_count": 8,
   "metadata": {},
   "outputs": [
    {
     "name": "stdout",
     "output_type": "stream",
     "text": [
      "['ひどく寒い日でした', '雪も降っており、すっかり暗くなり、もう夜 ―― 今年さいごの夜でした', 'この寒さと暗闇の中、一人のあわれな少女が道を歩いておりました', '頭に何もかぶらず、足に何もはいていません', '家を出るときには靴をはいていました', 'ええ、確かにはいていたんです', 'でも、靴は何の役にも立ちませんでした', 'それはとても大きな靴で、 これまで少女のお母さんがはいていたものでした', 'たいそう大きい靴でした', 'かわいそうに、道を大急ぎで渡ったとき、少女はその靴をなくしてしまいました', '二台の馬車が猛スピードで走ってきたからです', '片方の靴はどこにも見つかりませんでした', 'もう片方は浮浪児が見つけ、走ってそれを持っていってしまいました', 'その浮浪児は、いつか自分に子どもができたらゆりかごにできると思ったのです', 'それで少女は小さな裸の足で歩いていきました', '両足は冷たさのためとても赤く、また青くなっておりました', '少女は古いエプロンの中にたくさんのマッチを入れ、 手に一たば持っていました', '日がな一日、誰も少女から何も買いませんでした', 'わずか一円だって少女にあげる者はおりませんでした', '寒さと空腹で震えながら、 少女は歩き回りました――まさに悲惨を絵に描いたようです', 'かわいそうな子！ひらひらと舞い降りる雪が少女の長くて金色の髪を覆いました', 'その髪は首のまわりに美しくカールして下がっています', 'でも、もちろん、少女はそんなことなんか考えていません', 'どの窓からも蝋燭の輝きが広がり、 鵞鳥を焼いているおいしそうな香りがしました', 'ご存知のように、今日は大みそかです', 'そうです、少女はそのことを考えていたのです', '二つの家が街の一角をなしていました', 'そのうち片方が前にせり出しています', '少女はそこに座って小さくなりました', '引き寄せた少女の小さな足は体にぴったりくっつきましたが、 少女はどんどん寒くなってきました', 'けれど、家に帰るなんて冒険はできません', 'マッチはまったく売れていないし、 たったの一円も持って帰れないからです', 'このまま帰ったら、きっとお父さんにぶたれてしまいます', 'それに家だって寒いんです', '大きなひび割れだけは、わらとぼろ切れでふさいでいますが、 上にあるものは風が音をたてて吹き込む天井だけなのですから', '少女の小さな両手は冷たさのためにもうかじかんでおりました', 'ああ！ たばの中からマッチを取り出して、 壁にこすり付けて、指をあたためれば、 それがたった一本のマッチでも、少女は ほっとできるでしょう', '少女は一本取り出しました', '≪シュッ！≫何という輝きでしょう', '何とよく燃えることでしょう', '温かく、輝く炎で、 上に手をかざすとまるで蝋燭のようでした', 'すばらしい光です', '小さな少女には、 まるで大きな鉄のストーブの前に実際に座っているようでした', 'そのストーブにはぴかぴかした真鍮の足があり、てっぺんには真鍮の飾りがついていました', 'その炎は、まわりに祝福を与えるように燃えました', 'いっぱいの喜びで満たすように、炎はまわりをあたためます', '少女は足ものばして、あたたまろうとします', 'しかし、―― 小さな炎は消え、ストーブも消えうせました', '残ったのは、手の中の燃え尽きたマッチだけでした', '少女はもう一本壁にこすりました', 'マッチは明るく燃え、その明かりが壁にあたったところはヴェールのように透け、 部屋の中が見えました', 'テーブルの上には雪のように白いテーブルクロスが広げられ、 その上には豪華な磁器が揃えてあり、 焼かれた鵞鳥はおいしそうな湯気を上げ、 その中にはリンゴと乾しプラムが詰められていました', 'さらに驚いたことには、 鵞鳥は皿の上からぴょんと飛び降りて、 胸にナイフとフォークを刺したまま床の上をよろよろと歩いて、 あわれな少女のところまでやってきたのです', 'ちょうどそのとき――マッチが消え、厚く、冷たく、じめじめした壁だけが残りました', '少女はもう一本マッチをともしました', 'すると、少女は最高に大きなクリスマスツリーの下に座っていました', 'そのツリーは、 金持ち商人の家のガラス戸を通して見たことのあるものよりもずっと大きく、 もっとたくさん飾り付けがしてありました', '何千もの光が緑の枝の上で燃え、 店のショーウインドウの中で見たことがあるような楽しい色合いの絵が少女を見おろしています', '少女は両手をそちらへのばして――そのとき、マッチが消えました', 'クリスマスツリーの光は高く高く上っていき、 もう天国の星々のように見えました', 'そのうちの一つが流れ落ち、長い炎の尾となりました', '「いま、誰かが亡くなったんだわ！」と少女は言いました', 'というのは、おばあさん――少女を愛したことのあるたった一人の人、いまはもう亡きおばあさん――がこんなことを言ったからです', '星が一つ、流れ落ちるとき、魂が一つ、神さまのところへと引き上げられるのよ、と', 'マッチをもう一本、壁でこすりました', 'すると再び明るくなり、その光輝の中におばあさんが立っていました', 'とても明るく光を放ち、とても柔和で、愛にあふれた表情をしていました', '「おばあちゃん！」と小さな子は大きな声をあげました', '「お願い、わたしを連れてって！ マッチが燃えつきたら、おばあちゃんも行ってしまう', 'あったかいストーブみたいに、 おいしそうな鵞鳥みたいに、 それから、あの大きなクリスマスツリーみたいに、 おばあちゃんも消えてしまう！」 少女は急いで、一たばのマッチをありったけ壁にこすりつけました', 'おばあさんに、しっかりそばにいてほしかったからです', 'マッチのたばはとてもまばゆい光を放ち、昼の光よりも明るいほどです', 'このときほどおばあさんが美しく、大きく見えたことはありません', 'おばあさんは、少女をその腕の中に抱きました', '二人は、輝く光と喜びに包まれて、高く、とても高く飛び、 やがて、もはや寒くもなく、空腹もなく、心配もないところへ――神さまのみもとにいたのです', 'けれど、あの街角には、夜明けの冷え込むころ、かわいそうな少女が座っていました', '薔薇のように頬を赤くし、口もとには微笑みを浮かべ、 壁にもたれて――古い一年の最後の夜に凍え死んでいたのです', 'その子は売り物のマッチをたくさん持ち、体を硬直させてそこに座っておりました', 'マッチのうちの一たばは燃えつきていました', '「あったかくしようと思ったんだなあ」と人々は言いました', '少女がどんなに美しいものを見たのかを考える人は、 誰一人いませんでした', '少女が、新しい年の喜びに満ち、おばあさんといっしょにすばらしいところへ入っていったと想像する人は、 誰一人いなかったのです']\n"
     ]
    }
   ],
   "source": [
    "with open('./machi.txt',encoding='utf-8') as input_file:\n",
    "    sentences = input_file.readlines()\n",
    "    sentences = ''.join(sentences)\n",
    "sentence_array = ''\n",
    "sentence_list = []\n",
    "for sentence in sentences:\n",
    "    if sentence == '。':\n",
    "        #print(sentence)\n",
    "        sentence_list.append(sentence_array)\n",
    "        #print(sentence_array)\n",
    "        sentence_array = ''\n",
    "    else:\n",
    "        sentence_array += sentence\n",
    "    #print(sentence_array)\n",
    "\n",
    "sentence_list = list(map(lambda x:x.strip().replace('\\u3000','').replace('\\n',''),sentence_list))\n",
    "#sentence_list = list(map(lambda x :x.replace('\\u3000','',inplace=True),sentence_list))\n",
    "print(sentence_list)"
   ]
  },
  {
   "cell_type": "code",
   "execution_count": 9,
   "metadata": {},
   "outputs": [],
   "source": [
    "t = MeCab.Tagger('-Ochasen')\n",
    "result = []\n",
    "results = []\n",
    "for sentence in sentence_list:\n",
    "    node = t.parseToNode(sentence)\n",
    "    while node:\n",
    "        features = node.feature.split(',')\n",
    "        if features[0] != 'BOS/EOS':\n",
    "            if features[0] not in ['助詞','助動詞','記号']:\n",
    "                token = features[6] if features[6] != '*' else node.surface\n",
    "                result.append(token)\n",
    "        node = node.next\n",
    "    results.append(result)\n",
    "    result = []\n",
    "ans_list = []\n",
    "for result in results:\n",
    "    vec_sum = 0\n",
    "    for word in result:\n",
    "        try:\n",
    "            simile = model.wv.similarity(w1=\"悲しみ\", w2=word)\n",
    "            vec_sum += simile*100\n",
    "        except KeyError:#学習モデルの中に入っていない語彙\n",
    "            pass\n",
    "    ans = vec_sum/len(result)\n",
    "    ans = round(ans,3)\n",
    "    ans_list.append(ans)\n",
    "    ans = 0"
   ]
  },
  {
   "cell_type": "code",
   "execution_count": 10,
   "metadata": {},
   "outputs": [
    {
     "data": {
      "image/png": "[encoded data removed]",
      "text/plain": [
       "<Figure size 1152x288 with 1 Axes>"
      ]
     },
     "metadata": {
      "needs_background": "light"
     },
     "output_type": "display_data"
    }
   ],
   "source": [
    "fig = plt.figure(figsize=(16,4))\n",
    "ax = fig.add_subplot(1,1,1,title='The Little Match Girl')\n",
    "ax.plot(ans_list)\n",
    "plt.show()"
   ]
  },
  {
   "cell_type": "code",
   "execution_count": 11,
   "metadata": {},
   "outputs": [
    {
     "name": "stdout",
     "output_type": "stream",
     "text": [
      "0 ひどく寒い日でした\n",
      "1 雪も降っており、すっかり暗くなり、もう夜 ―― 今年さいごの夜でした\n",
      "2 この寒さと暗闇の中、一人のあわれな少女が道を歩いておりました\n",
      "3 頭に何もかぶらず、足に何もはいていません\n",
      "4 家を出るときには靴をはいていました\n",
      "5 ええ、確かにはいていたんです\n",
      "6 でも、靴は何の役にも立ちませんでした\n",
      "7 それはとても大きな靴で、 これまで少女のお母さんがはいていたものでした\n",
      "8 たいそう大きい靴でした\n",
      "9 かわいそうに、道を大急ぎで渡ったとき、少女はその靴をなくしてしまいました\n",
      "10 二台の馬車が猛スピードで走ってきたからです\n",
      "11 片方の靴はどこにも見つかりませんでした\n",
      "12 もう片方は浮浪児が見つけ、走ってそれを持っていってしまいました\n",
      "13 その浮浪児は、いつか自分に子どもができたらゆりかごにできると思ったのです\n",
      "14 それで少女は小さな裸の足で歩いていきました\n",
      "15 両足は冷たさのためとても赤く、また青くなっておりました\n",
      "16 少女は古いエプロンの中にたくさんのマッチを入れ、 手に一たば持っていました\n",
      "17 日がな一日、誰も少女から何も買いませんでした\n",
      "18 わずか一円だって少女にあげる者はおりませんでした\n",
      "19 寒さと空腹で震えながら、 少女は歩き回りました――まさに悲惨を絵に描いたようです\n",
      "20 かわいそうな子！ひらひらと舞い降りる雪が少女の長くて金色の髪を覆いました\n",
      "21 その髪は首のまわりに美しくカールして下がっています\n",
      "22 でも、もちろん、少女はそんなことなんか考えていません\n",
      "23 どの窓からも蝋燭の輝きが広がり、 鵞鳥を焼いているおいしそうな香りがしました\n",
      "24 ご存知のように、今日は大みそかです\n",
      "25 そうです、少女はそのことを考えていたのです\n",
      "26 二つの家が街の一角をなしていました\n",
      "27 そのうち片方が前にせり出しています\n",
      "28 少女はそこに座って小さくなりました\n",
      "29 引き寄せた少女の小さな足は体にぴったりくっつきましたが、 少女はどんどん寒くなってきました\n",
      "30 けれど、家に帰るなんて冒険はできません\n",
      "31 マッチはまったく売れていないし、 たったの一円も持って帰れないからです\n",
      "32 このまま帰ったら、きっとお父さんにぶたれてしまいます\n",
      "33 それに家だって寒いんです\n",
      "34 大きなひび割れだけは、わらとぼろ切れでふさいでいますが、 上にあるものは風が音をたてて吹き込む天井だけなのですから\n",
      "35 少女の小さな両手は冷たさのためにもうかじかんでおりました\n",
      "36 ああ！ たばの中からマッチを取り出して、 壁にこすり付けて、指をあたためれば、 それがたった一本のマッチでも、少女は ほっとできるでしょう\n",
      "37 少女は一本取り出しました\n",
      "38 ≪シュッ！≫何という輝きでしょう\n",
      "39 何とよく燃えることでしょう\n",
      "40 温かく、輝く炎で、 上に手をかざすとまるで蝋燭のようでした\n",
      "41 すばらしい光です\n",
      "42 小さな少女には、 まるで大きな鉄のストーブの前に実際に座っているようでした\n",
      "43 そのストーブにはぴかぴかした真鍮の足があり、てっぺんには真鍮の飾りがついていました\n",
      "44 その炎は、まわりに祝福を与えるように燃えました\n",
      "45 いっぱいの喜びで満たすように、炎はまわりをあたためます\n",
      "46 少女は足ものばして、あたたまろうとします\n",
      "47 しかし、―― 小さな炎は消え、ストーブも消えうせました\n",
      "48 残ったのは、手の中の燃え尽きたマッチだけでした\n",
      "49 少女はもう一本壁にこすりました\n",
      "50 マッチは明るく燃え、その明かりが壁にあたったところはヴェールのように透け、 部屋の中が見えました\n",
      "51 テーブルの上には雪のように白いテーブルクロスが広げられ、 その上には豪華な磁器が揃えてあり、 焼かれた鵞鳥はおいしそうな湯気を上げ、 その中にはリンゴと乾しプラムが詰められていました\n",
      "52 さらに驚いたことには、 鵞鳥は皿の上からぴょんと飛び降りて、 胸にナイフとフォークを刺したまま床の上をよろよろと歩いて、 あわれな少女のところまでやってきたのです\n",
      "53 ちょうどそのとき――マッチが消え、厚く、冷たく、じめじめした壁だけが残りました\n",
      "54 少女はもう一本マッチをともしました\n",
      "55 すると、少女は最高に大きなクリスマスツリーの下に座っていました\n",
      "56 そのツリーは、 金持ち商人の家のガラス戸を通して見たことのあるものよりもずっと大きく、 もっとたくさん飾り付けがしてありました\n",
      "57 何千もの光が緑の枝の上で燃え、 店のショーウインドウの中で見たことがあるような楽しい色合いの絵が少女を見おろしています\n",
      "58 少女は両手をそちらへのばして――そのとき、マッチが消えました\n",
      "59 クリスマスツリーの光は高く高く上っていき、 もう天国の星々のように見えました\n",
      "60 そのうちの一つが流れ落ち、長い炎の尾となりました\n",
      "61 「いま、誰かが亡くなったんだわ！」と少女は言いました\n",
      "62 というのは、おばあさん――少女を愛したことのあるたった一人の人、いまはもう亡きおばあさん――がこんなことを言ったからです\n",
      "63 星が一つ、流れ落ちるとき、魂が一つ、神さまのところへと引き上げられるのよ、と\n",
      "64 マッチをもう一本、壁でこすりました\n",
      "65 すると再び明るくなり、その光輝の中におばあさんが立っていました\n",
      "66 とても明るく光を放ち、とても柔和で、愛にあふれた表情をしていました\n",
      "67 「おばあちゃん！」と小さな子は大きな声をあげました\n",
      "68 「お願い、わたしを連れてって！ マッチが燃えつきたら、おばあちゃんも行ってしまう\n",
      "69 あったかいストーブみたいに、 おいしそうな鵞鳥みたいに、 それから、あの大きなクリスマスツリーみたいに、 おばあちゃんも消えてしまう！」 少女は急いで、一たばのマッチをありったけ壁にこすりつけました\n",
      "70 おばあさんに、しっかりそばにいてほしかったからです\n",
      "71 マッチのたばはとてもまばゆい光を放ち、昼の光よりも明るいほどです\n",
      "72 このときほどおばあさんが美しく、大きく見えたことはありません\n",
      "73 おばあさんは、少女をその腕の中に抱きました\n",
      "74 二人は、輝く光と喜びに包まれて、高く、とても高く飛び、 やがて、もはや寒くもなく、空腹もなく、心配もないところへ――神さまのみもとにいたのです\n",
      "75 けれど、あの街角には、夜明けの冷え込むころ、かわいそうな少女が座っていました\n",
      "76 薔薇のように頬を赤くし、口もとには微笑みを浮かべ、 壁にもたれて――古い一年の最後の夜に凍え死んでいたのです\n",
      "77 その子は売り物のマッチをたくさん持ち、体を硬直させてそこに座っておりました\n",
      "78 マッチのうちの一たばは燃えつきていました\n",
      "79 「あったかくしようと思ったんだなあ」と人々は言いました\n",
      "80 少女がどんなに美しいものを見たのかを考える人は、 誰一人いませんでした\n",
      "81 少女が、新しい年の喜びに満ち、おばあさんといっしょにすばらしいところへ入っていったと想像する人は、 誰一人いなかったのです\n"
     ]
    }
   ],
   "source": [
    "for i,sentence in enumerate(sentence_list):\n",
    "    print(i,sentence)"
   ]
  },
  {
   "cell_type": "markdown",
   "metadata": {},
   "source": [
    "問題点：否定語を認識させたれない→美しいものを見たと考える人は（誰一人いませんでした）が美しいもの見たことになっている"
   ]
  },
  {
   "cell_type": "markdown",
   "metadata": {},
   "source": [
    "参照：https://qiita.com/kojiko430430/items/55b4e16826705aad6bbb"
   ]
  },
  {
   "cell_type": "code",
   "execution_count": 238,
   "metadata": {},
   "outputs": [],
   "source": [
    "def feeling_analyzer(feelingword,sentence_list):\n",
    "    t = MeCab.Tagger('-Ochasen')\n",
    "    result = []\n",
    "    results = []\n",
    "    not_sen = []\n",
    "    for i ,sentence in enumerate(sentence_list):\n",
    "        node = t.parseToNode(sentence)\n",
    "        while node:\n",
    "            features = node.feature.split(',')\n",
    "            if features[0] != 'BOS/EOS':\n",
    "                if features[0] in ['助詞','助動詞'] and features[6] in ['ず','ぬ','ん','ない']:\n",
    "                #print(features[6])\n",
    "                    not_sen.append(i)\n",
    "                if features[0] not in ['助詞','助動詞','記号']:\n",
    "                    token = features[6] if features[6] != '*' else node.surface\n",
    "                    result.append(token)\n",
    "            node = node.next\n",
    "        results.append(result)\n",
    "        result = []\n",
    "    ans_list = []\n",
    "    for result in results:\n",
    "        vec_sum = 0\n",
    "        for word in result:\n",
    "            try:\n",
    "                simile = model.wv.similarity(w1=feelingword, w2=word)\n",
    "                vec_sum += simile*100\n",
    "            except KeyError:#学習モデルの中に入っていない語彙\n",
    "                pass\n",
    "        ans = vec_sum/len(result)\n",
    "        ans = round(ans,3)\n",
    "        ans_list.append(ans)\n",
    "        ans = 0\n",
    "    return ans_list, set(not_sen)"
   ]
  },
  {
   "cell_type": "code",
   "execution_count": 239,
   "metadata": {},
   "outputs": [
    {
     "data": {
      "text/plain": [
       "([23.907,\n",
       "  22.848,\n",
       "  16.388,\n",
       "  15.154,\n",
       "  10.14,\n",
       "  11.054,\n",
       "  17.877,\n",
       "  24.386,\n",
       "  33.493,\n",
       "  11.818,\n",
       "  13.308,\n",
       "  23.905,\n",
       "  15.909,\n",
       "  13.949,\n",
       "  32.964,\n",
       "  26.715,\n",
       "  18.863,\n",
       "  4.657,\n",
       "  3.284,\n",
       "  28.382,\n",
       "  38.227,\n",
       "  25.897,\n",
       "  16.729,\n",
       "  24.974,\n",
       "  11.15,\n",
       "  14.394,\n",
       "  13.965,\n",
       "  12.698,\n",
       "  37.568,\n",
       "  35.765,\n",
       "  12.019,\n",
       "  9.546,\n",
       "  9.389,\n",
       "  12.454,\n",
       "  23.77,\n",
       "  18.329,\n",
       "  12.99,\n",
       "  10.23,\n",
       "  8.655,\n",
       "  23.707,\n",
       "  31.554,\n",
       "  46.564,\n",
       "  24.99,\n",
       "  20.265,\n",
       "  26.061,\n",
       "  22.813,\n",
       "  23.599,\n",
       "  25.271,\n",
       "  11.461,\n",
       "  17.887,\n",
       "  30.323,\n",
       "  21.126,\n",
       "  19.326,\n",
       "  23.999,\n",
       "  7.106,\n",
       "  22.4,\n",
       "  20.752,\n",
       "  24.831,\n",
       "  20.969,\n",
       "  33.004,\n",
       "  26.896,\n",
       "  16.941,\n",
       "  13.427,\n",
       "  17.241,\n",
       "  10.623,\n",
       "  24.343,\n",
       "  43.457,\n",
       "  23.692,\n",
       "  5.733,\n",
       "  22.79,\n",
       "  20.644,\n",
       "  39.557,\n",
       "  29.975,\n",
       "  26.999,\n",
       "  22.406,\n",
       "  26.939,\n",
       "  22.08,\n",
       "  17.195,\n",
       "  -4.929,\n",
       "  13.996,\n",
       "  19.401,\n",
       "  16.937],\n",
       " {3, 6, 11, 17, 18, 22, 30, 31, 72, 80, 81})"
      ]
     },
     "execution_count": 239,
     "metadata": {},
     "output_type": "execute_result"
    }
   ],
   "source": [
    "feeling_analyzer('明るい',sentence_list)"
   ]
  },
  {
   "cell_type": "code",
   "execution_count": 243,
   "metadata": {},
   "outputs": [
    {
     "name": "stdout",
     "output_type": "stream",
     "text": [
      "25.188499999999998\n"
     ]
    }
   ],
   "source": [
    "ans_array = np.array(ans_list).reshape(-1,1)\n",
    "med = np.median(ans_array)\n",
    "print(med)\n",
    "an"
   ]
  },
  {
   "cell_type": "code",
   "execution_count": 227,
   "metadata": {},
   "outputs": [
    {
     "name": "stdout",
     "output_type": "stream",
     "text": [
      "[15.097, 8.287, 3.526, -2.92, -3.709, -8.177, -2.806, 3.807, -8.62, 5.986, -12.317, -2.32, -3.669, 1.442, 16.5, 0.157, -7.762, 3.823, -10.324, 13.841, 11.403, 0.458, 1.442, -3.465, 4.813, -4.453, -12.129, -18.638, -1.937, 6.527, 6.931, -11.511, 2.42, -7.721, -6.933, 3.022, -6.837, -13.142, -3.733, 11.017, 6.881, 21.85, -5.342, -17.353, 10.467, 4.607, 3.878, -2.483, -7.551, -2.172, 2.999, -13.6, 0.22, 0.111, -8.856, -4.67, -9.099, -3.997, 1.077, -4.385, -8.51, 14.857, 6.471, -3.675, -11.0, 1.879, 10.693, 4.301, -6.095, 4.387, 10.394, 5.555, -3.392, 13.81, 1.675, 11.414, 2.756, -5.984, -22.454, 2.055, 4.014, 7.122]\n",
      "[15.097, 8.287, 3.526, 2.92, -3.709, -8.177, 2.806, 3.807, -8.62, 5.986, -12.317, 2.32, -3.669, 1.442, 16.5, 0.157, -7.762, -3.823, 10.324, 13.841, 11.403, 0.458, -1.442, -3.465, 4.813, -4.453, -12.129, -18.638, -1.937, 6.527, -6.931, 11.511, 2.42, -7.721, -6.933, 3.022, -6.837, -13.142, -3.733, 11.017, 6.881, 21.85, -5.342, -17.353, 10.467, 4.607, 3.878, -2.483, -7.551, -2.172, 2.999, -13.6, 0.22, 0.111, -8.856, -4.67, -9.099, -3.997, 1.077, -4.385, -8.51, 14.857, 6.471, -3.675, -11.0, 1.879, 10.693, 4.301, -6.095, 4.387, 10.394, 5.555, 3.392, 13.81, 1.675, 11.414, 2.756, -5.984, -22.454, 2.055, -4.014, -7.122]\n",
      "21.85 -22.454 0.0013780487804877669\n"
     ]
    }
   ],
   "source": [
    "ans_list_25=list(map(lambda x:round(x-25,3),ans_list))#全部の値25引く\n",
    "print(ans_list_25)\n",
    "for ind in not_sen_set:\n",
    "    ans_list_25[ind] = -(ans_list_25[ind])\n",
    "print(ans_list_25)\n",
    "ans_array_25 = np.array(ans_list_25)#.reshape(-1,1)\n",
    "ans_array_25 = ans_array_25.reshape(-1,1)\n",
    "#processed_ans_array_25 = np.array(ans_list_25)#.reshape(-1,1)\n",
    "#processed_ans_array_24 = ans_array_24.reshape(-1,1)\n",
    "#print(processed_ans_array_24)\n",
    "#print(ans_array_24)\n",
    "#print(np.max(processed_ans_array_24),np.min(processed_ans_array_24),np.average(processed_ans_array_24))\n",
    "print(np.max(ans_array_25),np.min(ans_array_25),np.average(ans_array_25))"
   ]
  },
  {
   "cell_type": "code",
   "execution_count": 231,
   "metadata": {},
   "outputs": [],
   "source": [
    "def linear23(x):\n",
    "    y = (1/23)*x\n",
    "    return y\n",
    "linear23_array = linear23(ans_array_25)\n",
    "#print(linear23_array)"
   ]
  },
  {
   "cell_type": "code",
   "execution_count": 191,
   "metadata": {},
   "outputs": [],
   "source": [
    "tanh = np.tanh(ans_array_24)\n",
    "processed_tanh = np.tanh(processed_ans_array_24)"
   ]
  },
  {
   "cell_type": "code",
   "execution_count": 137,
   "metadata": {},
   "outputs": [
    {
     "data": {
      "text/plain": [
       "(1.3783107293666477e-11, 7.913423542273977e-31, 1.6936516908492702e-13)"
      ]
     },
     "execution_count": 137,
     "metadata": {},
     "output_type": "execute_result"
    }
   ],
   "source": [
    "np.max(inp_array),np.min(inp_array),np.average(inp_array)"
   ]
  },
  {
   "cell_type": "code",
   "execution_count": null,
   "metadata": {},
   "outputs": [],
   "source": []
  },
  {
   "cell_type": "code",
   "execution_count": 230,
   "metadata": {},
   "outputs": [
    {
     "data": {
      "image/png": "[encoded data removed]",
      "text/plain": [
       "<Figure size 1152x288 with 1 Axes>"
      ]
     },
     "metadata": {
      "needs_background": "light"
     },
     "output_type": "display_data"
    }
   ],
   "source": [
    "#ave=np.average(inp_array)\n",
    "fig = plt.figure(figsize=(16,4))\n",
    "ax = fig.add_subplot(1,1,1,title='The Little Match Girl')\n",
    "#ax2 = fig.add_subplot(2,1,2,title='The Little Match Girl')\n",
    "ax.plot(linear23_array.tolist())\n",
    "#ax2.plot(processed_ans_array_24.tolist()[0])\n",
    "ax.set_ylim([-1,1])\n",
    "#ax2.set_ylim([-2,2])\n",
    "plt.show()"
   ]
  },
  {
   "cell_type": "code",
   "execution_count": 194,
   "metadata": {},
   "outputs": [
    {
     "data": {
      "text/plain": [
       "[[0.9999999999999791],\n",
       " [0.999999982842884],\n",
       " [0.9997657144691285],\n",
       " [-0.9579173059590634],\n",
       " [-0.9911671629490788],\n",
       " [-0.9999988327422961],\n",
       " [-0.947423845868397],\n",
       " [0.9998664346389893],\n",
       " [-0.9999995187375397],\n",
       " [0.9999982897203701],\n",
       " [-0.9999999997040566],\n",
       " [-0.8667839288498187],\n",
       " [-0.9904350201436449],\n",
       " [0.9849802762104832],\n",
       " [0.9999999999999988],\n",
       " [0.8200597896502915],\n",
       " [-0.9999973231080534],\n",
       " [0.9998706407966531],\n",
       " [-0.9999999840666721],\n",
       " [0.9999999999997428],\n",
       " [0.9999999999662774],\n",
       " [0.8972634604376691],\n",
       " [0.9849802762104832],\n",
       " [-0.9856506887818505],\n",
       " [0.9999821384776867],\n",
       " [-0.997998491384135],\n",
       " [-0.999999999568974],\n",
       " [-0.999999999999999],\n",
       " [-0.7338408654631918],\n",
       " [0.9999994203568082],\n",
       " [0.9999997416247751],\n",
       " [-0.9999999985164869],\n",
       " [0.9978620809951161],\n",
       " [-0.9999970943524167],\n",
       " [-0.9999859496021332],\n",
       " [0.9993581614657644],\n",
       " [-0.999982975572469],\n",
       " [-0.9999999999431641],\n",
       " [-0.9915793816646051],\n",
       " [0.9999999999270213],\n",
       " [0.9999997144512194],\n",
       " [1.0],\n",
       " [-0.9996615120544894],\n",
       " [-0.9999999999999875],\n",
       " [0.9999999997807597],\n",
       " [0.9999730321813163],\n",
       " [0.9998841148291616],\n",
       " [-0.902028536600732],\n",
       " [-0.9999959177198305],\n",
       " [-0.8249122650418436],\n",
       " [0.9993279574474401],\n",
       " [-0.9999999999772591],\n",
       " [0.8396541756543754],\n",
       " [0.8044155909634055],\n",
       " [-0.9999996998108226],\n",
       " [-0.9987027409447773],\n",
       " [-0.9999998153590876],\n",
       " [-0.9950250670447914],\n",
       " [0.9690824814145576],\n",
       " [-0.9977072420841929],\n",
       " [-0.9999994003100824],\n",
       " [0.9999999999999662],\n",
       " [0.9999993516616577],\n",
       " [-0.9905485747952091],\n",
       " [-0.9999999958776927],\n",
       " [0.9937050355911936],\n",
       " [0.9999999998604855],\n",
       " [0.9999502687816061],\n",
       " [-0.9999249150457861],\n",
       " [0.9999581271853258],\n",
       " [0.9999999997462959],\n",
       " [0.9999959502477207],\n",
       " [-0.9834137382161556],\n",
       " [0.9999999999997263],\n",
       " [0.9905485747952091],\n",
       " [0.9999999999670112],\n",
       " [0.9989076229279537],\n",
       " [-0.9999062519501156],\n",
       " [-1.0],\n",
       " [0.9955687382163588],\n",
       " [0.9999117111705215],\n",
       " [0.9999998236601799]]"
      ]
     },
     "execution_count": 194,
     "metadata": {},
     "output_type": "execute_result"
    }
   ],
   "source": [
    "processed_tanh.tolist()[0]"
   ]
  },
  {
   "cell_type": "code",
   "execution_count": 196,
   "metadata": {},
   "outputs": [
    {
     "data": {
      "text/plain": [
       "[[0.9999999999999791],\n",
       " [0.999999982842884],\n",
       " [0.9997657144691285],\n",
       " [-0.9579173059590634],\n",
       " [-0.9911671629490788],\n",
       " [-0.9999988327422961],\n",
       " [-0.947423845868397],\n",
       " [0.9998664346389893],\n",
       " [-0.9999995187375397],\n",
       " [0.9999982897203701],\n",
       " [-0.9999999997040566],\n",
       " [-0.8667839288498187],\n",
       " [-0.9904350201436449],\n",
       " [0.9849802762104832],\n",
       " [0.9999999999999988],\n",
       " [0.8200597896502915],\n",
       " [-0.9999973231080534],\n",
       " [0.9998706407966531],\n",
       " [-0.9999999840666721],\n",
       " [0.9999999999997428],\n",
       " [0.9999999999662774],\n",
       " [0.8972634604376691],\n",
       " [0.9849802762104832],\n",
       " [-0.9856506887818505],\n",
       " [0.9999821384776867],\n",
       " [-0.997998491384135],\n",
       " [-0.999999999568974],\n",
       " [-0.999999999999999],\n",
       " [-0.7338408654631918],\n",
       " [0.9999994203568082],\n",
       " [0.9999997416247751],\n",
       " [-0.9999999985164869],\n",
       " [0.9978620809951161],\n",
       " [-0.9999970943524167],\n",
       " [-0.9999859496021332],\n",
       " [0.9993581614657644],\n",
       " [-0.999982975572469],\n",
       " [-0.9999999999431641],\n",
       " [-0.9915793816646051],\n",
       " [0.9999999999270213],\n",
       " [0.9999997144512194],\n",
       " [1.0],\n",
       " [-0.9996615120544894],\n",
       " [-0.9999999999999875],\n",
       " [0.9999999997807597],\n",
       " [0.9999730321813163],\n",
       " [0.9998841148291616],\n",
       " [-0.902028536600732],\n",
       " [-0.9999959177198305],\n",
       " [-0.8249122650418436],\n",
       " [0.9993279574474401],\n",
       " [-0.9999999999772591],\n",
       " [0.8396541756543754],\n",
       " [0.8044155909634055],\n",
       " [-0.9999996998108226],\n",
       " [-0.9987027409447773],\n",
       " [-0.9999998153590876],\n",
       " [-0.9950250670447914],\n",
       " [0.9690824814145576],\n",
       " [-0.9977072420841929],\n",
       " [-0.9999994003100824],\n",
       " [0.9999999999999662],\n",
       " [0.9999993516616577],\n",
       " [-0.9905485747952091],\n",
       " [-0.9999999958776927],\n",
       " [0.9937050355911936],\n",
       " [0.9999999998604855],\n",
       " [0.9999502687816061],\n",
       " [-0.9999249150457861],\n",
       " [0.9999581271853258],\n",
       " [0.9999999997462959],\n",
       " [0.9999959502477207],\n",
       " [-0.9834137382161556],\n",
       " [0.9999999999997263],\n",
       " [0.9905485747952091],\n",
       " [0.9999999999670112],\n",
       " [0.9989076229279537],\n",
       " [-0.9999062519501156],\n",
       " [-1.0],\n",
       " [0.9955687382163588],\n",
       " [0.9999117111705215],\n",
       " [0.9999998236601799]]"
      ]
     },
     "execution_count": 196,
     "metadata": {},
     "output_type": "execute_result"
    }
   ],
   "source": [
    "tanh.tolist()"
   ]
  },
  {
   "cell_type": "code",
   "execution_count": 71,
   "metadata": {},
   "outputs": [
    {
     "name": "stdout",
     "output_type": "stream",
     "text": [
      "0.012195121951219514 0.992451253236844 5.698052655755374e-20\n"
     ]
    }
   ],
   "source": [
    "ave=np.average(inp_array)\n",
    "maxi = np.max(inp_array)\n",
    "mini = np.min(inp_array)\n",
    "print(ave,maxi,mini)"
   ]
  },
  {
   "cell_type": "code",
   "execution_count": null,
   "metadata": {},
   "outputs": [],
   "source": []
  }
 ],
 "metadata": {
  "kernelspec": {
   "display_name": "Python 3",
   "language": "python",
   "name": "python3"
  },
  "language_info": {
   "codemirror_mode": {
    "name": "ipython",
    "version": 3
   },
   "file_extension": ".py",
   "mimetype": "text/x-python",
   "name": "python",
   "nbconvert_exporter": "python",
   "pygments_lexer": "ipython3",
   "version": "3.7.6"
  }
 },
 "nbformat": 4,
 "nbformat_minor": 4
}
